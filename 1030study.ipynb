{
  "nbformat": 4,
  "nbformat_minor": 0,
  "metadata": {
    "colab": {
      "provenance": [],
      "authorship_tag": "ABX9TyOobJn+aFvUQFJM+YE+dQ3D",
      "include_colab_link": true
    },
    "kernelspec": {
      "name": "python3",
      "display_name": "Python 3"
    },
    "language_info": {
      "name": "python"
    }
  },
  "cells": [
    {
      "cell_type": "markdown",
      "metadata": {
        "id": "view-in-github",
        "colab_type": "text"
      },
      "source": [
        "<a href=\"https://colab.research.google.com/github/yje0515/PythonStudy2025/blob/main/1030study.ipynb\" target=\"_parent\"><img src=\"https://colab.research.google.com/assets/colab-badge.svg\" alt=\"Open In Colab\"/></a>"
      ]
    },
    {
      "cell_type": "code",
      "execution_count": null,
      "metadata": {
        "colab": {
          "base_uri": "https://localhost:8080/"
        },
        "id": "8h2iIwvqyR1F",
        "outputId": "6a3edd40-a5c9-4ae2-f8f7-81381d9e359b"
      },
      "outputs": [
        {
          "output_type": "stream",
          "name": "stdout",
          "text": [
            "3\n"
          ]
        }
      ],
      "source": [
        "one = 1\n",
        "two = 2\n",
        "three = one+two\n",
        "print(three)"
      ]
    },
    {
      "cell_type": "code",
      "source": [
        "# 숫자형.. 나 왔네\n",
        "# Number type  : 정수 실수 8진수 16진수 2진수 등을 표현한다\n",
        "a = 123\n",
        "print(a)\n",
        "# 셀 별로 나눠서 실행시켜서 효율적으로 프로그램을 돌린다~\n"
      ],
      "metadata": {
        "colab": {
          "base_uri": "https://localhost:8080/"
        },
        "id": "71SsLCkt1A3C",
        "outputId": "329a68c5-dea6-4f3e-ea31-4342eeb0e8b7"
      },
      "execution_count": null,
      "outputs": [
        {
          "output_type": "stream",
          "name": "stdout",
          "text": [
            "123\n"
          ]
        }
      ]
    },
    {
      "cell_type": "code",
      "source": [
        "# 실수형\n",
        "a = 1.2\n",
        "a = -3.45\n",
        "print(a)"
      ],
      "metadata": {
        "colab": {
          "base_uri": "https://localhost:8080/"
        },
        "id": "tgJgSarC1tJg",
        "outputId": "739ccafa-a547-4288-eb63-6f06c857aff0"
      },
      "execution_count": null,
      "outputs": [
        {
          "output_type": "stream",
          "name": "stdout",
          "text": [
            "-3.45\n"
          ]
        }
      ]
    },
    {
      "cell_type": "code",
      "source": [
        "a = 2E2 # 2 * 10^2\n",
        "print(a)"
      ],
      "metadata": {
        "colab": {
          "base_uri": "https://localhost:8080/"
        },
        "id": "MwCviT8B11Bk",
        "outputId": "e54507aa-5d11-4cf5-92c5-4685776ca9f6"
      },
      "execution_count": null,
      "outputs": [
        {
          "output_type": "stream",
          "name": "stdout",
          "text": [
            "200.0\n"
          ]
        }
      ]
    },
    {
      "cell_type": "code",
      "source": [
        "# 8 진수 (octal)로 변환\n",
        "a = 0o177 # 177 -> 8^2*1+8^1*7+8^0*7 = 127\n",
        "print(a)\n",
        "# 16진수 (hexadecimal)로 변환\n",
        "b = 0x111 # 16^2*1 + ... = 273\n",
        "print(b)"
      ],
      "metadata": {
        "id": "Sds5IDPS2TJ0"
      },
      "execution_count": null,
      "outputs": []
    },
    {
      "cell_type": "code",
      "source": [
        "a = 2\n",
        "b = a**2 # 제곱\n",
        "print(b)\n",
        "c = 10\n",
        "d = 10//3 # 몫의 정수값만 반환\n",
        "print(d)"
      ],
      "metadata": {
        "colab": {
          "base_uri": "https://localhost:8080/"
        },
        "id": "wAWeKfVi3CCC",
        "outputId": "8a55f578-250a-4919-ee96-791c8ef74f25"
      },
      "execution_count": null,
      "outputs": [
        {
          "output_type": "stream",
          "name": "stdout",
          "text": [
            "4\n",
            "3\n"
          ]
        }
      ]
    },
    {
      "cell_type": "code",
      "source": [
        "# 문자열 자료형\n",
        "a = \"Life is too short, \\n\\\"'You'\\\" need Python\"\n",
        "print(a)\n",
        "b = \"\"\"\n",
        "엔터를\n",
        "자유롭게\n",
        "할 수 있다 \\a\\a\\a\n",
        "\"\"\"\n",
        "print(b)\n",
        "# 문자열 연산하기\n",
        "top = \"Hi \"\n",
        "middle = \"my name is \"\n",
        "bottom = \"jieun\"\n",
        "print(top+middle+bottom)\n",
        "\n",
        "\n",
        "print(\"=\"*20)\n",
        "# 문자열의 길이 length()\n",
        "\n",
        "# 인덱싱과 슬라이싱\n",
        "a = \"Hello Python Good bye\"\n",
        "print(a)\n",
        "a[4]\n",
        "print(\"=\"*20)\n",
        "print(a[0:5]+\" \"+a[13:])\n",
        "print(\"=\"*20)\n",
        "a[-8:]\n",
        "a = \"01234567HEY\"\n",
        "a[8:]\n",
        "num = a[:7]\n",
        "print(num)\n",
        "print(\"=\"*20)"
      ],
      "metadata": {
        "colab": {
          "base_uri": "https://localhost:8080/"
        },
        "id": "ZPzXsHWj4j4U",
        "outputId": "f4e36cee-15fa-43b8-c7e9-0045f31dce4d"
      },
      "execution_count": null,
      "outputs": [
        {
          "output_type": "stream",
          "name": "stdout",
          "text": [
            "Life is too short, \n",
            "\"'You'\" need Python\n",
            "\n",
            "엔터를\n",
            "자유롭게\n",
            "할 수 있다 \u0007\u0007\u0007\n",
            "\n",
            "Hi my name is jieun\n",
            "NoNo\n",
            "====================\n",
            "Hello Python Good bye\n",
            "====================\n",
            "Hello Good bye\n",
            "====================\n",
            "HEY\n",
            "0123456\n",
            "====================\n"
          ]
        }
      ]
    },
    {
      "cell_type": "code",
      "source": [
        "# 문자열 바꾸기\n",
        "a = \"Pithon\"\n",
        "a[1]\n",
        "# a[1] = 'y' 오류!\n",
        "print(a[:1]+'y'+a[2:]) # 슬라이싱!\n",
        " # 포매팅\n",
        "a = \"오늘의 기온은 %d도\"%18\n",
        "print(a)\n",
        "# 두개 이상의 포매팅\n",
        "a = \"오늘은 %d월 %d일\" %(10,30)\n",
        "print(a)\n",
        "a = \"비가 올 확률은 %d%%\" %99\n",
        "print(a)\n",
        "# float\n",
        "a = \"%.4f\"%3.42134234 # 0을 생략할 수 있다\n",
        "print(a)\n",
        "a = \"I Seoul {0}\".format(\"you\")\n",
        "print(a)\n",
        "# 두개 이상의 format 함수를 이용한 포매팅\n",
        "a = \"Python is {0}, but {1}\".format(\"easy\",\"hard\")\n",
        "print(a)\n",
        "str1 = \"easy\"\n",
        "str2 = \"hard\"\n",
        "a = f\"Python is {str1}, but {str2}\"\n",
        "print(a)\n",
        "# 콤마 찍기\n",
        "f\"로또 {5000000000:,}원 당첨!\"\n",
        "a = \"lotto\"\n",
        "a.count('t') # 문자 b의 개수 반환\n",
        "a.find('o') # 문자 o의 첫번째 위치(인덱스) 반환\n",
        "a.upper()\n",
        "a.lower()\n",
        "','.join(['a','b','c']) # 사이사이에 join\n",
        "a.index('t') # find와 다르게 존재하지 않는 문자를 찾으면 오류가 발생한다.\n",
        "# 왼쪽공백 lstrip 오른쪽 공백rstrip\n",
        "a = \"   strip   \"\n",
        "a.lstrip()\n",
        "a.rstrip().lstrip() # 그냥 strip 하면 양쪽 다 공백 사라짐\n",
        "\n"
      ],
      "metadata": {
        "colab": {
          "base_uri": "https://localhost:8080/",
          "height": 182
        },
        "id": "YKzj-SRpCFJd",
        "outputId": "0c85b37d-69c8-4982-d41e-19a6840c0f4f"
      },
      "execution_count": null,
      "outputs": [
        {
          "output_type": "stream",
          "name": "stdout",
          "text": [
            "Python\n",
            "오늘의 기온은 18도\n",
            "오늘은 10월 30일\n",
            "비가 올 확률은 99%\n",
            "3.4213\n",
            "I Seoul you\n",
            "Python is easy, but hard\n",
            "Python is easy, but hard\n"
          ]
        },
        {
          "output_type": "execute_result",
          "data": {
            "text/plain": [
              "'strip'"
            ],
            "application/vnd.google.colaboratory.intrinsic+json": {
              "type": "string"
            }
          },
          "metadata": {},
          "execution_count": 82
        }
      ]
    },
    {
      "cell_type": "code",
      "source": [
        "s = \"마라탕 먹고싶다\"\n",
        "s.startswith(\"마라\")\n",
        "s.endswith(\"마라\")"
      ],
      "metadata": {
        "colab": {
          "base_uri": "https://localhost:8080/"
        },
        "id": "4yDVyjTPRQok",
        "outputId": "247c9d33-4a9a-4053-f0c1-4124ef5e9be3"
      },
      "execution_count": null,
      "outputs": [
        {
          "output_type": "execute_result",
          "data": {
            "text/plain": [
              "False"
            ]
          },
          "metadata": {},
          "execution_count": 84
        }
      ]
    },
    {
      "cell_type": "code",
      "source": [
        "# 리스트 자료형\n",
        "arr = [1,2,3,4,[5,6,7]]\n",
        "a = list()\n",
        "print(arr)\n",
        "print(a)\n",
        "arr[0]\n",
        "arr[1]+arr[2] # 2+3\n",
        "arr[-1] # 마지막 요솟값\n",
        "arr[-1][0]\n",
        "arr[:2]\n",
        "arr[2:]\n",
        "arr[4][:2]\n",
        "arr2 = [8,9,10]\n",
        "arr3 = arr+arr2\n",
        "print(arr3)\n",
        "arr*2\n",
        "print('='*33)\n",
        "len(arr)\n",
        "st1 = str(arr[1])+\"toString\"\n",
        "print(st1)\n",
        "arr[0] = 0\n",
        "print(arr)\n",
        "del arr[0]\n",
        "arr\n",
        "arr.append(8)\n",
        "array = [3,2,1]\n",
        "array.sort()\n",
        "array\n",
        "array.reverse()\n",
        "array"
      ],
      "metadata": {
        "colab": {
          "base_uri": "https://localhost:8080/"
        },
        "id": "-DRY05ptRfm5",
        "outputId": "ba885ba3-cf61-4bc3-d4f6-43872befd288"
      },
      "execution_count": null,
      "outputs": [
        {
          "output_type": "stream",
          "name": "stdout",
          "text": [
            "[1, 2, 3, 4, [5, 6, 7]]\n",
            "[]\n",
            "[1, 2, 3, 4, [5, 6, 7], 8, 9, 10]\n",
            "=================================\n",
            "2toString\n",
            "[0, 2, 3, 4, [5, 6, 7]]\n"
          ]
        },
        {
          "output_type": "execute_result",
          "data": {
            "text/plain": [
              "[3, 2, 1]"
            ]
          },
          "metadata": {},
          "execution_count": 12
        }
      ]
    },
    {
      "cell_type": "code",
      "source": [
        "# 인덱스 반환\n",
        "a = ['a','b','c']\n",
        "a.index('a')\n",
        "# 리스트에 요소 삽입(인덱스)\n",
        "a = [1,2,3]\n",
        "a.insert(0,100)\n",
        "a\n",
        "# 첫번째로 나오는 해당 요소 삭제\n",
        "a = [1,2,3,1,2,3]\n",
        "a.remove(1)\n",
        "a\n",
        "a.remove(1)\n",
        "a\n",
        "# 맨 마지막 요소 삭제\n",
        "a.pop()\n",
        "a\n",
        "# index 요소 삭제\n",
        "a.pop(2)\n",
        "a\n",
        "# 해당 요소 갯수 세기\n",
        "a = [1,2,3,4,1,1,1]\n",
        "a.count(1)\n",
        "# 리스트 확장\n",
        "a = [0,1,2]\n",
        "a.extend([3,4])\n",
        "a\n",
        "a.extend([[5,6,7]])\n",
        "a += [8,9]\n",
        "a"
      ],
      "metadata": {
        "colab": {
          "base_uri": "https://localhost:8080/"
        },
        "id": "5y2urhXFqTlz",
        "outputId": "83fa199a-3283-4237-cb8d-a10021fd79cb"
      },
      "execution_count": 25,
      "outputs": [
        {
          "output_type": "execute_result",
          "data": {
            "text/plain": [
              "[0, 1, 2, 3, 4, [5, 6, 7], 8, 9]"
            ]
          },
          "metadata": {},
          "execution_count": 25
        }
      ]
    },
    {
      "cell_type": "code",
      "source": [
        "# 튜플 자료형\n",
        "# 리스트는 대괄호[] 튜플은 소괄호()\n",
        "# 튜플은 요소값을 바꿀 수 없다\n",
        "t1 = (1,) # 요소값 하나만 가질 때 콤마 쉼표 붙여주기\n",
        "t2 = (1,2)\n",
        "t3 = ('a','b','c')\n"
      ],
      "metadata": {
        "id": "NfgwKFWHreRO"
      },
      "execution_count": null,
      "outputs": []
    },
    {
      "cell_type": "code",
      "source": [],
      "metadata": {
        "id": "N1fiHZKjreKC"
      },
      "execution_count": null,
      "outputs": []
    }
  ]
}