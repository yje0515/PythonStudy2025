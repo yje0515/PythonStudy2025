{
  "nbformat": 4,
  "nbformat_minor": 0,
  "metadata": {
    "colab": {
      "provenance": [],
      "authorship_tag": "ABX9TyOnJ99iBUSmn658RXDaIyxT",
      "include_colab_link": true
    },
    "kernelspec": {
      "name": "python3",
      "display_name": "Python 3"
    },
    "language_info": {
      "name": "python"
    }
  },
  "cells": [
    {
      "cell_type": "markdown",
      "metadata": {
        "id": "view-in-github",
        "colab_type": "text"
      },
      "source": [
        "<a href=\"https://colab.research.google.com/github/yje0515/PythonStudy2025/blob/main/1030study.ipynb\" target=\"_parent\"><img src=\"https://colab.research.google.com/assets/colab-badge.svg\" alt=\"Open In Colab\"/></a>"
      ]
    },
    {
      "cell_type": "code",
      "execution_count": null,
      "metadata": {
        "colab": {
          "base_uri": "https://localhost:8080/"
        },
        "id": "8h2iIwvqyR1F",
        "outputId": "6a3edd40-a5c9-4ae2-f8f7-81381d9e359b"
      },
      "outputs": [
        {
          "output_type": "stream",
          "name": "stdout",
          "text": [
            "3\n"
          ]
        }
      ],
      "source": [
        "one = 1\n",
        "two = 2\n",
        "three = one+two\n",
        "print(three)"
      ]
    },
    {
      "cell_type": "code",
      "source": [
        "# 숫자형\n",
        "# Number type  : 정수 실수 8진수 16진수 2진수 등을 표현한다\n",
        "a = 123\n",
        "print(a)\n",
        "# 셀 별로 나눠서 실행시켜서 효율적으로 프로그램을 돌린다~\n"
      ],
      "metadata": {
        "colab": {
          "base_uri": "https://localhost:8080/"
        },
        "id": "71SsLCkt1A3C",
        "outputId": "329a68c5-dea6-4f3e-ea31-4342eeb0e8b7"
      },
      "execution_count": null,
      "outputs": [
        {
          "output_type": "stream",
          "name": "stdout",
          "text": [
            "123\n"
          ]
        }
      ]
    },
    {
      "cell_type": "code",
      "source": [
        "# 실수형\n",
        "a = 1.2\n",
        "a = -3.45\n",
        "print(a)"
      ],
      "metadata": {
        "colab": {
          "base_uri": "https://localhost:8080/"
        },
        "id": "tgJgSarC1tJg",
        "outputId": "739ccafa-a547-4288-eb63-6f06c857aff0"
      },
      "execution_count": null,
      "outputs": [
        {
          "output_type": "stream",
          "name": "stdout",
          "text": [
            "-3.45\n"
          ]
        }
      ]
    },
    {
      "cell_type": "code",
      "source": [
        "a = 2E2 # 2 * 10^2\n",
        "print(a)"
      ],
      "metadata": {
        "colab": {
          "base_uri": "https://localhost:8080/"
        },
        "id": "MwCviT8B11Bk",
        "outputId": "e54507aa-5d11-4cf5-92c5-4685776ca9f6"
      },
      "execution_count": null,
      "outputs": [
        {
          "output_type": "stream",
          "name": "stdout",
          "text": [
            "200.0\n"
          ]
        }
      ]
    },
    {
      "cell_type": "code",
      "source": [
        "# 8 진수 (octal)로 변환\n",
        "a = 0o177 # 177 -> 8^2*1+8^1*7+8^0*7 = 127\n",
        "print(a)\n",
        "# 16진수 (hexadecimal)로 변환\n",
        "b = 0x111 # 16^2*1 + ... = 273\n",
        "print(b)"
      ],
      "metadata": {
        "id": "Sds5IDPS2TJ0"
      },
      "execution_count": null,
      "outputs": []
    },
    {
      "cell_type": "code",
      "source": [
        "a = 2\n",
        "b = a**2 # 제곱\n",
        "print(b)\n",
        "c = 10\n",
        "d = 10//3 # 몫의 정수값만 반환\n",
        "print(d)"
      ],
      "metadata": {
        "colab": {
          "base_uri": "https://localhost:8080/"
        },
        "id": "wAWeKfVi3CCC",
        "outputId": "8a55f578-250a-4919-ee96-791c8ef74f25"
      },
      "execution_count": null,
      "outputs": [
        {
          "output_type": "stream",
          "name": "stdout",
          "text": [
            "4\n",
            "3\n"
          ]
        }
      ]
    },
    {
      "cell_type": "code",
      "source": [
        "# 문자열 자료형\n",
        "a = \"Life is too short, \\n\\\"'You'\\\" need Python\"\n",
        "print(a)\n",
        "b = \"\"\"\n",
        "엔터를\n",
        "자유롭게\n",
        "할 수 있다 \\a\\a\\a\n",
        "\"\"\"\n",
        "print(b)\n",
        "# 문자열 연산하기\n",
        "top = \"Hi \"\n",
        "middle = \"my name is \"\n",
        "bottom = \"jieun\"\n",
        "print(top+middle+bottom)\n",
        "\n",
        "\n",
        "print(\"=\"*20)\n",
        "# 문자열의 길이 length()\n",
        "\n",
        "# 인덱싱과 슬라이싱\n",
        "a = \"Hello Python Good bye\"\n",
        "print(a)\n",
        "a[4]\n",
        "print(\"=\"*20)\n",
        "print(a[0:5]+\" \"+a[13:])\n",
        "print(\"=\"*20)\n",
        "a[-8:]\n",
        "a = \"01234567HEY\"\n",
        "a[8:]\n",
        "num = a[:7]\n",
        "print(num)\n",
        "print(\"=\"*20)"
      ],
      "metadata": {
        "colab": {
          "base_uri": "https://localhost:8080/"
        },
        "id": "ZPzXsHWj4j4U",
        "outputId": "f4e36cee-15fa-43b8-c7e9-0045f31dce4d"
      },
      "execution_count": null,
      "outputs": [
        {
          "output_type": "stream",
          "name": "stdout",
          "text": [
            "Life is too short, \n",
            "\"'You'\" need Python\n",
            "\n",
            "엔터를\n",
            "자유롭게\n",
            "할 수 있다 \u0007\u0007\u0007\n",
            "\n",
            "Hi my name is jieun\n",
            "NoNo\n",
            "====================\n",
            "Hello Python Good bye\n",
            "====================\n",
            "Hello Good bye\n",
            "====================\n",
            "HEY\n",
            "0123456\n",
            "====================\n"
          ]
        }
      ]
    },
    {
      "cell_type": "code",
      "source": [
        "# 문자열 바꾸기\n",
        "a = \"Pithon\"\n",
        "a[1]\n",
        "# a[1] = 'y' 오류!\n",
        "print(a[:1]+'y'+a[2:]) # 슬라이싱!\n",
        " # 포매팅\n",
        "a = \"오늘의 기온은 %d도\"%18\n",
        "print(a)\n",
        "# 두개 이상의 포매팅\n",
        "a = \"오늘은 %d월 %d일\" %(10,30)\n",
        "print(a)\n",
        "a = \"비가 올 확률은 %d%%\" %99\n",
        "print(a)\n",
        "# float\n",
        "a = \"%.4f\"%3.42134234 # 0을 생략할 수 있다\n",
        "print(a)\n",
        "a = \"I Seoul {0}\".format(\"you\")\n",
        "print(a)\n",
        "# 두개 이상의 format 함수를 이용한 포매팅\n",
        "a = \"Python is {0}, but {1}\".format(\"easy\",\"hard\")\n",
        "print(a)\n",
        "str1 = \"easy\"\n",
        "str2 = \"hard\"\n",
        "a = f\"Python is {str1}, but {str2}\"\n",
        "print(a)\n",
        "# 콤마 찍기\n",
        "f\"로또 {5000000000:,}원 당첨!\"\n",
        "a = \"lotto\"\n",
        "a.count('t') # 문자 b의 개수 반환\n",
        "a.find('o') # 문자 o의 첫번째 위치(인덱스) 반환\n",
        "a.upper()\n",
        "a.lower()\n",
        "','.join(['a','b','c']) # 사이사이에 join\n",
        "a.index('t') # find와 다르게 존재하지 않는 문자를 찾으면 오류가 발생한다.\n",
        "# 왼쪽공백 lstrip 오른쪽 공백rstrip\n",
        "a = \"   strip   \"\n",
        "a.lstrip()\n",
        "a.rstrip().lstrip() # 그냥 strip 하면 양쪽 다 공백 사라짐\n",
        "\n"
      ],
      "metadata": {
        "colab": {
          "base_uri": "https://localhost:8080/",
          "height": 182
        },
        "id": "YKzj-SRpCFJd",
        "outputId": "0c85b37d-69c8-4982-d41e-19a6840c0f4f"
      },
      "execution_count": null,
      "outputs": [
        {
          "output_type": "stream",
          "name": "stdout",
          "text": [
            "Python\n",
            "오늘의 기온은 18도\n",
            "오늘은 10월 30일\n",
            "비가 올 확률은 99%\n",
            "3.4213\n",
            "I Seoul you\n",
            "Python is easy, but hard\n",
            "Python is easy, but hard\n"
          ]
        },
        {
          "output_type": "execute_result",
          "data": {
            "text/plain": [
              "'strip'"
            ],
            "application/vnd.google.colaboratory.intrinsic+json": {
              "type": "string"
            }
          },
          "metadata": {},
          "execution_count": 82
        }
      ]
    },
    {
      "cell_type": "code",
      "source": [
        "s = \"마라탕 먹고싶다\"\n",
        "s.startswith(\"마라\")\n",
        "s.endswith(\"마라\")"
      ],
      "metadata": {
        "colab": {
          "base_uri": "https://localhost:8080/"
        },
        "id": "4yDVyjTPRQok",
        "outputId": "247c9d33-4a9a-4053-f0c1-4124ef5e9be3"
      },
      "execution_count": null,
      "outputs": [
        {
          "output_type": "execute_result",
          "data": {
            "text/plain": [
              "False"
            ]
          },
          "metadata": {},
          "execution_count": 84
        }
      ]
    },
    {
      "cell_type": "code",
      "source": [
        "# 리스트 자료형\n",
        "arr = [1,2,3,4,[5,6,7]]\n",
        "a = list()\n",
        "print(arr)\n",
        "print(a)\n",
        "arr[0]\n",
        "arr[1]+arr[2] # 2+3\n",
        "arr[-1] # 마지막 요솟값\n",
        "arr[-1][0]\n",
        "arr[:2]\n",
        "arr[2:]\n",
        "arr[4][:2]\n",
        "arr2 = [8,9,10]\n",
        "arr3 = arr+arr2\n",
        "print(arr3)\n",
        "arr*2\n",
        "print('='*33)\n",
        "len(arr)\n",
        "st1 = str(arr[1])+\"toString\"\n",
        "print(st1)\n",
        "arr[0] = 0\n",
        "print(arr)\n",
        "del arr[0]\n",
        "arr\n",
        "arr.append(8)\n",
        "array = [3,2,1]\n",
        "array.sort()\n",
        "array\n",
        "array.reverse()\n",
        "array"
      ],
      "metadata": {
        "colab": {
          "base_uri": "https://localhost:8080/"
        },
        "id": "-DRY05ptRfm5",
        "outputId": "ba885ba3-cf61-4bc3-d4f6-43872befd288"
      },
      "execution_count": null,
      "outputs": [
        {
          "output_type": "stream",
          "name": "stdout",
          "text": [
            "[1, 2, 3, 4, [5, 6, 7]]\n",
            "[]\n",
            "[1, 2, 3, 4, [5, 6, 7], 8, 9, 10]\n",
            "=================================\n",
            "2toString\n",
            "[0, 2, 3, 4, [5, 6, 7]]\n"
          ]
        },
        {
          "output_type": "execute_result",
          "data": {
            "text/plain": [
              "[3, 2, 1]"
            ]
          },
          "metadata": {},
          "execution_count": 12
        }
      ]
    },
    {
      "cell_type": "code",
      "source": [
        "# 인덱스 반환\n",
        "a = ['a','b','c']\n",
        "a.index('a')\n",
        "# 리스트에 요소 삽입(인덱스)\n",
        "a = [1,2,3]\n",
        "a.insert(0,100)\n",
        "a\n",
        "# 첫번째로 나오는 해당 요소 삭제\n",
        "a = [1,2,3,1,2,3]\n",
        "a.remove(1)\n",
        "a\n",
        "a.remove(1)\n",
        "a\n",
        "# 맨 마지막 요소 삭제\n",
        "a.pop()\n",
        "a\n",
        "# index 요소 삭제\n",
        "a.pop(2)\n",
        "a\n",
        "# 해당 요소 갯수 세기\n",
        "a = [1,2,3,4,1,1,1]\n",
        "a.count(1)\n",
        "# 리스트 확장\n",
        "a = [0,1,2]\n",
        "a.extend([3,4])\n",
        "a\n",
        "a.extend([[5,6,7]])\n",
        "a += [8,9]\n",
        "a"
      ],
      "metadata": {
        "colab": {
          "base_uri": "https://localhost:8080/"
        },
        "id": "5y2urhXFqTlz",
        "outputId": "83fa199a-3283-4237-cb8d-a10021fd79cb"
      },
      "execution_count": 25,
      "outputs": [
        {
          "output_type": "execute_result",
          "data": {
            "text/plain": [
              "[0, 1, 2, 3, 4, [5, 6, 7], 8, 9]"
            ]
          },
          "metadata": {},
          "execution_count": 25
        }
      ]
    },
    {
      "cell_type": "code",
      "source": [
        "# 튜플 자료형\n",
        "# 리스트는 대괄호[] 튜플은 소괄호()\n",
        "# 튜플은 요소값을 바꿀 수 없다 삭제 X 변경 X\n",
        "t1 = (1,) # 요소값 하나만 가질 때 콤마 쉼표 붙여주기\n",
        "t2 = (1,2)\n",
        "t3 = ('a','b','c')\n",
        "# 인덱싱, 슬라이싱, 더하기, 곱하기 , 길이는 일반 리스트와 똑같음"
      ],
      "metadata": {
        "colab": {
          "base_uri": "https://localhost:8080/"
        },
        "id": "NfgwKFWHreRO",
        "outputId": "32c9b1c8-69f6-4705-cf81-d05b4569002c"
      },
      "execution_count": 28,
      "outputs": [
        {
          "output_type": "execute_result",
          "data": {
            "text/plain": [
              "1"
            ]
          },
          "metadata": {},
          "execution_count": 28
        }
      ]
    },
    {
      "cell_type": "code",
      "source": [
        "# 딕셔너리 자료형 Hash(key,value) associative array # 자바 HashMap과 유사하다\n",
        "dic = {'name':'jieun','age':29,'birth':515}\n",
        "# 딕셔너라 쌍 추가 / 삭제\n",
        "a = {1:'a'}\n",
        "a[2] = 'b' # a[key] = value\n",
        "a\n",
        "dic['hobby'] = 'Overwatch'\n",
        "dic\n",
        "del dic['age'] # del dic[key]\n",
        "dic\n",
        "# key를 이용해 value 얻기\n",
        "dic['name']\n",
        "# key는 고유한 값, 중복되는 key 값 설정시 한쌍을 제외하고 무시됨\n",
        "# 딕셔너리 관련 함수\n",
        "dic.keys() # 딕셔너리의 key만 모은 dict_keys를 반환, 반복구문 사용 가능, append,insert,pop,remove,sort X\n",
        "# 리스트로 값을 받고 싶으면 list() 함수 사용\n",
        "dic_list = list(dic.keys())\n",
        "dic_list\n",
        "for k in dic.keys():\n",
        "    print(k)\n",
        "# value 리스트 만들기\n",
        "dic.values() # dict_values 객체를 반환\n",
        "# key,value 쌍 얻기\n",
        "dic.items() # key,value의 쌍을 튜플로 묶은 값을 dict_items 객체로 반환\n",
        "# key, value 쌍 모두 지우기\n",
        "dic.clear()\n",
        "dic\n",
        "# key로 value 얻기 get\n",
        "a = {'name': 'pey', 'phone': '010-9999-1234', 'birth': '1118'}\n",
        "a.get('name')\n",
        "print('='*30)\n",
        "a.get('noKey') # None(false)를 반환\n",
        "# a['nokey'] # 오류\n",
        "a.get('noKey','정보없음') # default value 를 설정"
      ],
      "metadata": {
        "colab": {
          "base_uri": "https://localhost:8080/",
          "height": 109
        },
        "id": "N1fiHZKjreKC",
        "outputId": "d2685b66-3251-4d6b-f75f-b20b60b883a2"
      },
      "execution_count": 52,
      "outputs": [
        {
          "output_type": "stream",
          "name": "stdout",
          "text": [
            "name\n",
            "birth\n",
            "hobby\n",
            "==============================\n"
          ]
        },
        {
          "output_type": "execute_result",
          "data": {
            "text/plain": [
              "'정보없음'"
            ],
            "application/vnd.google.colaboratory.intrinsic+json": {
              "type": "string"
            }
          },
          "metadata": {},
          "execution_count": 52
        }
      ]
    },
    {
      "cell_type": "code",
      "source": [
        "# 딕셔너리 안에 해당 key가 있는지 조사하기\n",
        "'name' in a # True\n",
        "'hobby' in a # false\n",
        "# key로 value 얻기 pop\n",
        "phone = a.pop('phone') # 딕셔너리에서 키에 해당하는 쌍을 삭제!한 후 value를 반환한다\n",
        "phone\n",
        "email = a.pop('email','정보없음') # default value\n",
        "email"
      ],
      "metadata": {
        "colab": {
          "base_uri": "https://localhost:8080/",
          "height": 35
        },
        "id": "1QBpreff3gcG",
        "outputId": "cbb42d0f-9558-41bf-82ce-283e75e0d340"
      },
      "execution_count": 56,
      "outputs": [
        {
          "output_type": "execute_result",
          "data": {
            "text/plain": [
              "'정보없음'"
            ],
            "application/vnd.google.colaboratory.intrinsic+json": {
              "type": "string"
            }
          },
          "metadata": {},
          "execution_count": 56
        }
      ]
    },
    {
      "cell_type": "code",
      "source": [
        "# 집합 자료형 set\n",
        "s1 = set([1,2,3])\n",
        "s1\n",
        "s2 = set('hello') # 순서가 마구잡이다! 중복이 허용되지 않는다!\n",
        "s2\n",
        "s3 = {1,2,3}\n",
        "s3\n",
        "# s = set() / s = {} <<딕셔너리가 됨 주의\n",
        "# unordered의 성질 때문에 인덱싱 X 인덱싱으로 접근하려면 리스트나 튜플로 변환\n",
        "s1 = set([1,2,3])\n",
        "li = list(s1)\n",
        "li.reverse()\n",
        "li\n",
        "\n",
        "# 교집합, 합집합, 차집합\n",
        "s1 = set([1,2,3,4,5])\n",
        "s2 = set([4,5,6,7,8])\n",
        "s1 & s2 # 교집합 intersection()\n",
        "s1 | s2 # 합집합 union()\n",
        "s1 - s2 # 차집합 difference()\n",
        "# 값 1개 추가하기\n",
        "s2.add(9)\n",
        "s2\n",
        "# 값 여러개 추가하기\n",
        "s1.update([6,7])\n",
        "s1\n",
        "# 특정 값 제거\n",
        "s1.remove(7)\n",
        "s1\n",
        "# 존재하지 않는 값을 제거하려고 해도 오류가 발생하지 않음\n",
        "s1.discard(10)\n",
        "s1\n",
        "# 모든 값 제거\n",
        "s1.clear()\n",
        "s1"
      ],
      "metadata": {
        "colab": {
          "base_uri": "https://localhost:8080/"
        },
        "id": "SEsMjxH-6Xw4",
        "outputId": "0a0a29f9-af94-40d2-e768-55b0078c8f8f"
      },
      "execution_count": 74,
      "outputs": [
        {
          "output_type": "execute_result",
          "data": {
            "text/plain": [
              "set()"
            ]
          },
          "metadata": {},
          "execution_count": 74
        }
      ]
    },
    {
      "cell_type": "code",
      "source": [],
      "metadata": {
        "id": "2C_LM2QH8YPB"
      },
      "execution_count": null,
      "outputs": []
    },
    {
      "cell_type": "code",
      "source": [
        " # 불 자료형 true/false X True/False 와 같이 첫글자는 대문자\n",
        "a = True\n",
        "b = False\n",
        "type(a)\n",
        "type(b)\n",
        "# 비교연산자 조건문으로 불 자료형 반환\n",
        "1==1 # True\n",
        "2>1 # True\n",
        "3<1 # False\n",
        "# 문자열, 리스트, 튜플, 딕셔너리 등의 값이 비어있으면 False 0은 False None은 False\n",
        "# 활용\n",
        "a = [1,2,3,4]\n",
        "while a:\n",
        "    print(a.pop()) # a 리스트가 빌 때 까지 마지막 요소를 삭제,반환,출력\n",
        "\n",
        "if []:\n",
        "    print(\"참\")\n",
        "else:\n",
        "    print(\"거짓\")\n",
        "\n",
        "# 논리 연산자\n",
        "True and True # True\n",
        "True and False # False\n",
        "True or False # True\n",
        "not True # False\n",
        "not False # True\n",
        "not 0 # True\n",
        "# 활용\n",
        "x = 5\n",
        "y = 10\n",
        "x > 0 and y >0\n",
        "not(x>y)"
      ],
      "metadata": {
        "colab": {
          "base_uri": "https://localhost:8080/"
        },
        "id": "465YXAa27Lqv",
        "outputId": "5b0faa72-fe73-4a16-bbd9-715b0130724c"
      },
      "execution_count": 88,
      "outputs": [
        {
          "output_type": "stream",
          "name": "stdout",
          "text": [
            "4\n",
            "3\n",
            "2\n",
            "1\n",
            "거짓\n"
          ]
        },
        {
          "output_type": "execute_result",
          "data": {
            "text/plain": [
              "True"
            ]
          },
          "metadata": {},
          "execution_count": 88
        }
      ]
    },
    {
      "cell_type": "code",
      "source": [
        "# 변수\n",
        "# 영문자, 숫자, 언더스코어_ 만 사용 가능\n",
        "# 숫자로 시작할 수 없음\n",
        "# 예약어 사용불가\n",
        "# 대소문자 구분\n",
        "# snake_case 권장\n",
        "\n",
        "# 변수 객체\n",
        "a = 512\n",
        "b = 512\n",
        "a is b\n",
        "print(\"a:\"+str(id(a))+\"  b:\"+str(id(b))) # 257부터 메모리 주소가 달라서 is는 False가 나온다!\n",
        "print('='*36)\n",
        "# 리스트 복사\n",
        "a = [1,2,3]\n",
        "b = a # 변수 b가 변수 a가 참조하는 리스트 객체의 메모리 주소값을 같이 가짐\n",
        "b is a # True a와 b가 가리키는 객체가 같음, 추가 수정 삭제시 같이 적용됨\n",
        "\n",
        "# 값만 복사\n",
        "a = [1,2,3]\n",
        "b = a[:]\n",
        "b\n",
        "a is b # False 리스트 전체의 값만을 복사함 위와 같음\n",
        "\n",
        "# copy copy() a.copy()\n",
        "from copy import copy\n",
        "b = copy(a)\n",
        "b is a # False"
      ],
      "metadata": {
        "colab": {
          "base_uri": "https://localhost:8080/"
        },
        "id": "UxGHKNTr83yY",
        "outputId": "763f7483-ccac-4703-d008-5b083271095b"
      },
      "execution_count": 118,
      "outputs": [
        {
          "output_type": "stream",
          "name": "stdout",
          "text": [
            "a:137870698161008  b:137870698156080\n",
            "====================================\n"
          ]
        },
        {
          "output_type": "execute_result",
          "data": {
            "text/plain": [
              "False"
            ]
          },
          "metadata": {},
          "execution_count": 118
        }
      ]
    },
    {
      "cell_type": "code",
      "source": [
        "# 변수로 만드는 여러가지 방법\n",
        "a,b = ('one','two')\n",
        "[a,b] = [1,2]\n",
        "type(a)\n",
        "print(a)\n",
        "a = b = 'python'\n",
        "print(a)\n",
        "print(b)\n",
        "a,b = 3,5\n",
        "a,b = b,a # 서로 값을 간단하게 바꿀 수 있다\n",
        "print(a)\n",
        "print(b)"
      ],
      "metadata": {
        "colab": {
          "base_uri": "https://localhost:8080/"
        },
        "id": "FHBQ3gJEDLAT",
        "outputId": "ab1af884-ffa5-4cad-bed9-d27c8b2b4525"
      },
      "execution_count": 129,
      "outputs": [
        {
          "output_type": "stream",
          "name": "stdout",
          "text": [
            "1\n",
            "python\n",
            "python\n",
            "5\n",
            "3\n"
          ]
        }
      ]
    }
  ]
}